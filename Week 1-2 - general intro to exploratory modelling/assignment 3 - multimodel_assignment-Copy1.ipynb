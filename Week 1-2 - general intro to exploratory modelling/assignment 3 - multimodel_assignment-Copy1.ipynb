{
 "cells": [
  {
   "cell_type": "code",
   "execution_count": 1,
   "metadata": {},
   "outputs": [
    {
     "name": "stderr",
     "output_type": "stream",
     "text": [
      "/opt/anaconda3/lib/python3.9/site-packages/ema_workbench/connectors/__init__.py:17: ImportWarning: vensim connector not available\n",
      "  warnings.warn(\"vensim connector not available\", ImportWarning)\n",
      "/opt/anaconda3/lib/python3.9/site-packages/ema_workbench/connectors/__init__.py:32: ImportWarning: simio connector not available\n",
      "  warnings.warn(\"simio connector not available\", ImportWarning)\n"
     ]
    },
    {
     "ename": "ValueError",
     "evalue": "/Users/anne-keedoing/Documents/GitHub/epa1361_open/Week 1-2 - general intro to exploratory modelling/models/predatorPreyNetlogo does not exist",
     "output_type": "error",
     "traceback": [
      "\u001b[0;31m---------------------------------------------------------------------------\u001b[0m",
      "\u001b[0;31mValueError\u001b[0m                                Traceback (most recent call last)",
      "\u001b[0;32m/var/folders/tl/_kt099d12lj0jm_6fymkgq7w0000gn/T/ipykernel_93290/2276414974.py\u001b[0m in \u001b[0;36m<module>\u001b[0;34m\u001b[0m\n\u001b[1;32m     26\u001b[0m     \u001b[0mema_logging\u001b[0m\u001b[0;34m.\u001b[0m\u001b[0mlog_to_stderr\u001b[0m\u001b[0;34m(\u001b[0m\u001b[0mema_logging\u001b[0m\u001b[0;34m.\u001b[0m\u001b[0mINFO\u001b[0m\u001b[0;34m)\u001b[0m\u001b[0;34m\u001b[0m\u001b[0;34m\u001b[0m\u001b[0m\n\u001b[1;32m     27\u001b[0m \u001b[0;34m\u001b[0m\u001b[0m\n\u001b[0;32m---> 28\u001b[0;31m     model = NetLogoModel(\n\u001b[0m\u001b[1;32m     29\u001b[0m         \u001b[0;34m\"predprey\"\u001b[0m\u001b[0;34m,\u001b[0m\u001b[0;34m\u001b[0m\u001b[0;34m\u001b[0m\u001b[0m\n\u001b[1;32m     30\u001b[0m         \u001b[0mwd\u001b[0m\u001b[0;34m=\u001b[0m\u001b[0;34m\"./models/predatorPreyNetlogo\"\u001b[0m\u001b[0;34m,\u001b[0m\u001b[0;34m\u001b[0m\u001b[0;34m\u001b[0m\u001b[0m\n",
      "\u001b[0;32m/opt/anaconda3/lib/python3.9/site-packages/ema_workbench/connectors/netlogo.py\u001b[0m in \u001b[0;36m__init__\u001b[0;34m(self, name, wd, model_file, netlogo_home, netlogo_version, jvm_home, gui, jvmargs)\u001b[0m\n\u001b[1;32m    113\u001b[0m \u001b[0;34m\u001b[0m\u001b[0m\n\u001b[1;32m    114\u001b[0m         \"\"\"\n\u001b[0;32m--> 115\u001b[0;31m         super(BaseNetLogoModel, self).__init__(name, wd=wd,\n\u001b[0m\u001b[1;32m    116\u001b[0m                                                model_file=model_file)\n\u001b[1;32m    117\u001b[0m \u001b[0;34m\u001b[0m\u001b[0m\n",
      "\u001b[0;32m/opt/anaconda3/lib/python3.9/site-packages/ema_workbench/em_framework/model.py\u001b[0m in \u001b[0;36m__init__\u001b[0;34m(self, name, wd, model_file)\u001b[0m\n\u001b[1;32m    509\u001b[0m \u001b[0;34m\u001b[0m\u001b[0m\n\u001b[1;32m    510\u001b[0m         \"\"\"\n\u001b[0;32m--> 511\u001b[0;31m         \u001b[0msuper\u001b[0m\u001b[0;34m(\u001b[0m\u001b[0mFileModel\u001b[0m\u001b[0;34m,\u001b[0m \u001b[0mself\u001b[0m\u001b[0;34m)\u001b[0m\u001b[0;34m.\u001b[0m\u001b[0m__init__\u001b[0m\u001b[0;34m(\u001b[0m\u001b[0mname\u001b[0m\u001b[0;34m,\u001b[0m \u001b[0mwd\u001b[0m\u001b[0;34m=\u001b[0m\u001b[0mwd\u001b[0m\u001b[0;34m)\u001b[0m\u001b[0;34m\u001b[0m\u001b[0;34m\u001b[0m\u001b[0m\n\u001b[0m\u001b[1;32m    512\u001b[0m \u001b[0;34m\u001b[0m\u001b[0m\n\u001b[1;32m    513\u001b[0m         \u001b[0mpath_to_file\u001b[0m \u001b[0;34m=\u001b[0m \u001b[0mos\u001b[0m\u001b[0;34m.\u001b[0m\u001b[0mpath\u001b[0m\u001b[0;34m.\u001b[0m\u001b[0mjoin\u001b[0m\u001b[0;34m(\u001b[0m\u001b[0mself\u001b[0m\u001b[0;34m.\u001b[0m\u001b[0mworking_directory\u001b[0m\u001b[0;34m,\u001b[0m \u001b[0mmodel_file\u001b[0m\u001b[0;34m)\u001b[0m\u001b[0;34m\u001b[0m\u001b[0;34m\u001b[0m\u001b[0m\n",
      "\u001b[0;32m/opt/anaconda3/lib/python3.9/site-packages/ema_workbench/em_framework/model.py\u001b[0m in \u001b[0;36m__init__\u001b[0;34m(self, name, wd)\u001b[0m\n\u001b[1;32m    458\u001b[0m \u001b[0;34m\u001b[0m\u001b[0m\n\u001b[1;32m    459\u001b[0m         \u001b[0;32mif\u001b[0m \u001b[0;32mnot\u001b[0m \u001b[0mos\u001b[0m\u001b[0;34m.\u001b[0m\u001b[0mpath\u001b[0m\u001b[0;34m.\u001b[0m\u001b[0mexists\u001b[0m\u001b[0;34m(\u001b[0m\u001b[0mself\u001b[0m\u001b[0;34m.\u001b[0m\u001b[0mworking_directory\u001b[0m\u001b[0;34m)\u001b[0m\u001b[0;34m:\u001b[0m\u001b[0;34m\u001b[0m\u001b[0;34m\u001b[0m\u001b[0m\n\u001b[0;32m--> 460\u001b[0;31m             \u001b[0;32mraise\u001b[0m \u001b[0mValueError\u001b[0m\u001b[0;34m(\u001b[0m\u001b[0;34m\"{} does not exist\"\u001b[0m\u001b[0;34m.\u001b[0m\u001b[0mformat\u001b[0m\u001b[0;34m(\u001b[0m\u001b[0mself\u001b[0m\u001b[0;34m.\u001b[0m\u001b[0mworking_directory\u001b[0m\u001b[0;34m)\u001b[0m\u001b[0;34m)\u001b[0m\u001b[0;34m\u001b[0m\u001b[0;34m\u001b[0m\u001b[0m\n\u001b[0m\u001b[1;32m    461\u001b[0m \u001b[0;34m\u001b[0m\u001b[0m\n\u001b[1;32m    462\u001b[0m     \u001b[0;32mdef\u001b[0m \u001b[0mas_dict\u001b[0m\u001b[0;34m(\u001b[0m\u001b[0mself\u001b[0m\u001b[0;34m)\u001b[0m\u001b[0;34m:\u001b[0m\u001b[0;34m\u001b[0m\u001b[0;34m\u001b[0m\u001b[0m\n",
      "\u001b[0;31mValueError\u001b[0m: /Users/anne-keedoing/Documents/GitHub/epa1361_open/Week 1-2 - general intro to exploratory modelling/models/predatorPreyNetlogo does not exist"
     ]
    }
   ],
   "source": [
    "\"\"\"\n",
    "This example is a proof of principle for how NetLogo models can be\n",
    "controlled using pyNetLogo and the ema_workbench. Note that this\n",
    "example uses the NetLogo 6 version of the predator prey model that\n",
    "comes with NetLogo. If you are using NetLogo 5, replace the model file\n",
    "with the one that comes with NetLogo.\n",
    "\"\"\"\n",
    "import numpy as np\n",
    "\n",
    "from ema_workbench import (\n",
    "    RealParameter,\n",
    "    ema_logging,\n",
    "    ScalarOutcome,\n",
    "    TimeSeriesOutcome,\n",
    "    MultiprocessingEvaluator,\n",
    ")\n",
    "from ema_workbench.connectors.netlogo import NetLogoModel\n",
    "\n",
    "# Created on 20 mrt. 2013\n",
    "#\n",
    "# .. codeauthor::  jhkwakkel\n",
    "\n",
    "\n",
    "if __name__ == \"__main__\":\n",
    "    # turn on logging\n",
    "    ema_logging.log_to_stderr(ema_logging.INFO)\n",
    "\n",
    "    model = NetLogoModel(\n",
    "        \"predprey\",\n",
    "        wd=\"./models/predatorPreyNetlogo\",\n",
    "        model_file=\"Wolf Sheep Predation.nlogo\",\n",
    "    )\n",
    "    model.run_length = 100\n",
    "    model.replications = 10\n",
    "\n",
    "    model.uncertainties = [\n",
    "        RealParameter(\"grass-regrowth-time\", 1, 99),\n",
    "        RealParameter(\"initial-number-sheep\", 50, 100),\n",
    "        RealParameter(\"initial-number-wolves\", 50, 100),\n",
    "        RealParameter(\"sheep-reproduce\", 5, 10),\n",
    "        RealParameter(\"wolf-reproduce\", 5, 10),\n",
    "    ]\n",
    "\n",
    "    model.outcomes = [\n",
    "        ScalarOutcome(\"sheep\", variable_name=\"count sheep\", function=np.mean),\n",
    "        TimeSeriesOutcome(\"wolves\"),\n",
    "        TimeSeriesOutcome(\"grass\"),\n",
    "    ]\n",
    "\n",
    "    # perform experiments\n",
    "    n = 10\n",
    "\n",
    "    with MultiprocessingEvaluator(\n",
    "        model, n_processes=2, maxtasksperchild=4\n",
    "    ) as evaluator:\n",
    "        results = evaluator.perform_experiments(n)\n",
    "\n",
    "    print()"
   ]
  },
  {
   "cell_type": "code",
   "execution_count": null,
   "metadata": {},
   "outputs": [],
   "source": []
  }
 ],
 "metadata": {
  "kernelspec": {
   "display_name": "Python 3 (ipykernel)",
   "language": "python",
   "name": "python3"
  },
  "language_info": {
   "codemirror_mode": {
    "name": "ipython",
    "version": 3
   },
   "file_extension": ".py",
   "mimetype": "text/x-python",
   "name": "python",
   "nbconvert_exporter": "python",
   "pygments_lexer": "ipython3",
   "version": "3.9.7"
  }
 },
 "nbformat": 4,
 "nbformat_minor": 4
}
