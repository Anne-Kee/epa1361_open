{
 "cells": [
  {
   "cell_type": "markdown",
   "metadata": {},
   "source": [
    "# EPA1361 - Model-Based Decision Making\n",
    "\n",
    "## Multi-model analysis\n",
    "\n",
    "This exercise uses a simple version of the [Lotka-Volterra predator-prey equations](https://en.wikipedia.org/wiki/Lotka%E2%80%93Volterra_equations) to show how the EMA Workbench can be used for a\n",
    "multi-model analysis, in addition to typical parametric/structural uncertainties. This will let you test the connectors provided in the Workbench for Excel, NetLogo, and Vensim / PySD; we'll also use the models for the sensitivity analysis exercise in week 3.\n",
    "\n",
    "* Using the three model files provided and the Python function below, define model objects for each implementation (Excel, NetLogo, Vensim/PySD, and Python), and test them using a single ensemble. Use 50 experiments sampled from the parameters below (so that each experiment will be executed for the 4 models, for a total of 200), and retrieve outputs for the _TIME_, _predators_, and _prey_ variables.\n",
    "    * excel and vensim are only supported on windows\n",
    "    * vensim requires the DSS version of Vensim\n",
    "    * Netlogo supoprt depends on [jpype](http://jpype.readthedocs.io/en/latest/install.html) and [pynetlogo](https://pynetlogo.readthedocs.io/en/latest/). Also, if you don't have NetLogo installed, please get it from [NetLogo 6.1.1](https://ccl.northwestern.edu/netlogo/download.shtml) \n",
    "    * for pysd, see [its documentation](http://pysd.readthedocs.io/en/master/installation.html)\n",
    "    * If possible try to work with all model versions, but even 2 or 3 (pure python and something else should be sufficient).\n",
    "    \n",
    "\n",
    "|Parameter\t|Range or value\t        |\n",
    "|-----------|--------------:|\n",
    "|prey_birth_rate    \t|0.015 – 0.035\t|\n",
    "|predation_rate|0.0005 – 0.003 \t|\n",
    "|predator_efficiency     \t|0.001 – 0.004\t    |\n",
    "|predator_loss_rate\t    |0.04 – 0.08\t    |\n",
    "|Final time\t    |365\t    |\n",
    "|dt\t    |0.25\t    |\n",
    "\n",
    "* Note that your EMA Workbench installation includes example scripts for the different connectors. The different model objects follow a similar syntax but will need to be slightly adjusted depending on the software (e.g. to specify the NetLogo run length or the sheet name in Excel). \n",
    "\n",
    "* These model objects can be used with a replication functionality (for instance to test the effect of stochastic uncertainty in a NetLogo model), which repeats a given experiment over multiple replications. You can use a single replication in this exercise as the models are not stochastic. By default, each outcome array will then have a shape of (# experiments, # replications, # time steps). Try adapting the outcome arrays so that they can be used with the _lines_ plotting function of the Workbench, and plot the results grouped by model.\n",
    "\n",
    "* To check the graphical results, find the maximum absolute error of the time series you obtained for the _prey_ variable in the Excel, NetLogo, and Vensim/PySD models, relative to the Python function. "
   ]
  },
  {
   "cell_type": "code",
   "execution_count": 1,
   "metadata": {
    "collapsed": false,
    "jupyter": {
     "outputs_hidden": false
    }
   },
   "outputs": [
    {
     "name": "stderr",
     "output_type": "stream",
     "text": [
      "/opt/anaconda3/lib/python3.9/site-packages/ema_workbench/connectors/__init__.py:17: ImportWarning: vensim connector not available\n",
      "  warnings.warn(\"vensim connector not available\", ImportWarning)\n",
      "/opt/anaconda3/lib/python3.9/site-packages/ema_workbench/connectors/__init__.py:32: ImportWarning: simio connector not available\n",
      "  warnings.warn(\"simio connector not available\", ImportWarning)\n"
     ]
    }
   ],
   "source": [
    "import numpy as np\n",
    "import matplotlib.pyplot as plt\n",
    "\n",
    "from ema_workbench import (Model, RealParameter, TimeSeriesOutcome,ArrayOutcome, perform_experiments,\n",
    "                           ema_logging)\n",
    "\n",
    "from ema_workbench.connectors.netlogo import NetLogoModel\n",
    "from ema_workbench.connectors.excel import ExcelModel\n",
    "from ema_workbench.connectors.pysd_connector import PysdModel\n",
    "\n",
<<<<<<< Updated upstream
    "from ema_workbench.em_framework.evaluators import LHSSampler, SobolSampler, MorrisSampler\n",
=======
    "#from ema_workbench.em_framework.evaluators import LHS, SOBOL, MORRIS\n",
    "from ema_workbench import Samplers\n",
>>>>>>> Stashed changes
    "\n",
    "from ema_workbench.analysis.plotting import lines, Density\n",
    "\n",
    "\n",
    "def PredPrey(prey_birth_rate=0.025, predation_rate=0.0015, predator_efficiency=0.002,\n",
    "             predator_loss_rate=0.06, initial_prey=50, initial_predators=20, dt=0.25, final_time=365, reps=1):\n",
    "\n",
    "    #Initial values\n",
    "    predators, prey, sim_time = [np.zeros((reps, int(final_time/dt)+1)) for _ in range(3)]\n",
    "    \n",
    "    for r in range(reps):\n",
    "        predators[r,0] = initial_predators\n",
    "        prey[r,0] = initial_prey\n",
    "\n",
    "        #Calculate the time series\n",
    "        for t in range(0, sim_time.shape[1]-1):\n",
    "\n",
    "            dx = (prey_birth_rate*prey[r,t]) - (predation_rate*prey[r,t]*predators[r,t])\n",
    "            dy = (predator_efficiency*predators[r,t]*prey[r,t]) - (predator_loss_rate*predators[r,t])\n",
    "\n",
    "            prey[r,t+1] = max(prey[r,t] + dx*dt, 0)\n",
    "            predators[r,t+1] = max(predators[r,t] + dy*dt, 0)\n",
    "            sim_time[r,t+1] = (t+1)*dt\n",
    "    \n",
    "    #Return outcomes\n",
    "    return {'TIME':sim_time,\n",
    "            'predators':predators,\n",
    "            'prey':prey}"
   ]
  },
  {
   "cell_type": "code",
   "execution_count": 2,
   "metadata": {},
   "outputs": [],
   "source": [
    "#from ema_workbench import VensimModel\n",
    "\n",
    "#from ema_workbench.connectors.vensim import VensimModel\n",
    "\n",
    "from ema_workbench.connectors.netlogo import NetLogoModel\n",
    "\n",
    "from ema_workbench.connectors.excel import ExcelModel\n",
    "from ema_workbench.em_framework.evaluators import MultiprocessingEvaluator\n",
    "\n",
    "from ema_workbench import SequentialEvaluator\n",
    "from ema_workbench.analysis import plotting, plotting_util\n",
    "\n",
    "import pandas as pd\n",
    "import seaborn as sns\n",
    "import matplotlib.pyplot as plt\n",
    "import time \n"
   ]
  },
  {
   "cell_type": "code",
   "execution_count": null,
   "metadata": {},
   "outputs": [],
   "source": []
  },
  {
   "cell_type": "markdown",
   "metadata": {},
   "source": [
    "## Python model"
   ]
  },
  {
   "cell_type": "code",
   "execution_count": 3,
   "metadata": {},
   "outputs": [],
   "source": [
    "model_python = Model('PredPrey', function=PredPrey)\n",
    "\n",
    "model_python.uncertainties = [RealParameter('prey_birth_rate', 0.015, 0.035),\n",
    "                       RealParameter('predation_rate', 0.0005, 0.003),\n",
    "                       RealParameter('predator_efficiency', 0.001, 0.004),\n",
    "                       RealParameter('predator_loss_rate', 0.04, 0.08)\n",
    "                      ]\n",
    "\n",
    "# specify outcomes\n",
    "model_python.outcomes = [\n",
    "    ArrayOutcome('TIME'),\n",
    "    ArrayOutcome('predators'),\n",
    "    ArrayOutcome('prey'),]\n",
    "\n",
    "#specify constants \n",
    "#model_python.constants"
   ]
  },
  {
   "cell_type": "code",
   "execution_count": 4,
   "metadata": {},
   "outputs": [
    {
     "name": "stderr",
     "output_type": "stream",
     "text": [
      "100%|█████████████████████████████████████████| 50/50 [00:00<00:00, 255.09it/s]\n"
     ]
    }
   ],
   "source": [
    "with SequentialEvaluator(model_python) as evaluator:\n",
    "     results_python = evaluator.perform_experiments(scenarios=50)\n",
    "    \n",
    "experiments_python, outcomes_python = results_python\n",
    "\n",
    "# get time and remove it from the dict\n",
    "#time = outcomes_python.pop(\"TIME\")"
   ]
  },
  {
   "cell_type": "code",
   "execution_count": 5,
   "metadata": {},
   "outputs": [],
   "source": [
    "#outcomes_python"
   ]
  },
  {
   "cell_type": "code",
   "execution_count": 6,
   "metadata": {},
   "outputs": [
    {
     "ename": "ValueError",
     "evalue": "x and y can be no greater than 2D, but have shapes (1461, 1) and (1461, 1, 50)",
     "output_type": "error",
     "traceback": [
      "\u001b[0;31m---------------------------------------------------------------------------\u001b[0m",
      "\u001b[0;31mValueError\u001b[0m                                Traceback (most recent call last)",
      "\u001b[0;32m/var/folders/tl/_kt099d12lj0jm_6fymkgq7w0000gn/T/ipykernel_93557/2089996022.py\u001b[0m in \u001b[0;36m<module>\u001b[0;34m\u001b[0m\n\u001b[1;32m      1\u001b[0m \u001b[0;32mfor\u001b[0m \u001b[0moutcome\u001b[0m \u001b[0;32min\u001b[0m \u001b[0;34m[\u001b[0m\u001b[0;34m'prey'\u001b[0m\u001b[0;34m,\u001b[0m\u001b[0;34m'predators'\u001b[0m\u001b[0;34m]\u001b[0m\u001b[0;34m:\u001b[0m\u001b[0;31m#outcomes_python.keys():\u001b[0m\u001b[0;34m\u001b[0m\u001b[0;34m\u001b[0m\u001b[0m\n\u001b[0;32m----> 2\u001b[0;31m     plotting.lines(experiments_python, outcomes_python, outcomes_to_show=outcome, \n\u001b[0m\u001b[1;32m      3\u001b[0m                    density=plotting_util.Density.HIST)\n\u001b[1;32m      4\u001b[0m \u001b[0mplt\u001b[0m\u001b[0;34m.\u001b[0m\u001b[0mshow\u001b[0m\u001b[0;34m(\u001b[0m\u001b[0;34m)\u001b[0m\u001b[0;34m\u001b[0m\u001b[0;34m\u001b[0m\u001b[0m\n",
      "\u001b[0;32m/opt/anaconda3/lib/python3.9/site-packages/ema_workbench/analysis/plotting.py\u001b[0m in \u001b[0;36mlines\u001b[0;34m(experiments, outcomes, outcomes_to_show, group_by, grouping_specifiers, density, legend, titles, ylabels, experiments_to_show, show_envelope, log)\u001b[0m\n\u001b[1;32m    389\u001b[0m             )\n\u001b[1;32m    390\u001b[0m         \u001b[0;32melse\u001b[0m\u001b[0;34m:\u001b[0m\u001b[0;34m\u001b[0m\u001b[0;34m\u001b[0m\u001b[0m\n\u001b[0;32m--> 391\u001b[0;31m             \u001b[0msimple_lines\u001b[0m\u001b[0;34m(\u001b[0m\u001b[0moutcomes\u001b[0m\u001b[0;34m,\u001b[0m \u001b[0moutcome_to_plot\u001b[0m\u001b[0;34m,\u001b[0m \u001b[0mtime\u001b[0m\u001b[0;34m,\u001b[0m \u001b[0mdensity\u001b[0m\u001b[0;34m,\u001b[0m \u001b[0max\u001b[0m\u001b[0;34m,\u001b[0m \u001b[0max_d\u001b[0m\u001b[0;34m,\u001b[0m \u001b[0mlog\u001b[0m\u001b[0;34m)\u001b[0m\u001b[0;34m\u001b[0m\u001b[0;34m\u001b[0m\u001b[0m\n\u001b[0m\u001b[1;32m    392\u001b[0m         \u001b[0max\u001b[0m\u001b[0;34m.\u001b[0m\u001b[0mset_xlabel\u001b[0m\u001b[0;34m(\u001b[0m\u001b[0mTIME_LABEL\u001b[0m\u001b[0;34m)\u001b[0m\u001b[0;34m\u001b[0m\u001b[0;34m\u001b[0m\u001b[0m\n\u001b[1;32m    393\u001b[0m         \u001b[0mdo_ylabels\u001b[0m\u001b[0;34m(\u001b[0m\u001b[0max\u001b[0m\u001b[0;34m,\u001b[0m \u001b[0mylabels\u001b[0m\u001b[0;34m,\u001b[0m \u001b[0moutcome_to_plot\u001b[0m\u001b[0;34m)\u001b[0m\u001b[0;34m\u001b[0m\u001b[0;34m\u001b[0m\u001b[0m\n",
      "\u001b[0;32m/opt/anaconda3/lib/python3.9/site-packages/ema_workbench/analysis/plotting.py\u001b[0m in \u001b[0;36msimple_lines\u001b[0;34m(outcomes, outcome_to_plot, time, density, ax, ax_d, log)\u001b[0m\n\u001b[1;32m    608\u001b[0m     \"\"\"\n\u001b[1;32m    609\u001b[0m     \u001b[0mvalue\u001b[0m \u001b[0;34m=\u001b[0m \u001b[0moutcomes\u001b[0m\u001b[0;34m[\u001b[0m\u001b[0moutcome_to_plot\u001b[0m\u001b[0;34m]\u001b[0m\u001b[0;34m\u001b[0m\u001b[0;34m\u001b[0m\u001b[0m\n\u001b[0;32m--> 610\u001b[0;31m     \u001b[0max\u001b[0m\u001b[0;34m.\u001b[0m\u001b[0mplot\u001b[0m\u001b[0;34m(\u001b[0m\u001b[0mtime\u001b[0m\u001b[0;34m.\u001b[0m\u001b[0mT\u001b[0m\u001b[0;34m,\u001b[0m \u001b[0mvalue\u001b[0m\u001b[0;34m.\u001b[0m\u001b[0mT\u001b[0m\u001b[0;34m)\u001b[0m\u001b[0;34m\u001b[0m\u001b[0;34m\u001b[0m\u001b[0m\n\u001b[0m\u001b[1;32m    611\u001b[0m     \u001b[0;32mif\u001b[0m \u001b[0mdensity\u001b[0m\u001b[0;34m:\u001b[0m\u001b[0;34m\u001b[0m\u001b[0;34m\u001b[0m\u001b[0m\n\u001b[1;32m    612\u001b[0m         \u001b[0msimple_density\u001b[0m\u001b[0;34m(\u001b[0m\u001b[0mdensity\u001b[0m\u001b[0;34m,\u001b[0m \u001b[0mvalue\u001b[0m\u001b[0;34m,\u001b[0m \u001b[0max_d\u001b[0m\u001b[0;34m,\u001b[0m \u001b[0max\u001b[0m\u001b[0;34m,\u001b[0m \u001b[0mlog\u001b[0m\u001b[0;34m)\u001b[0m\u001b[0;34m\u001b[0m\u001b[0;34m\u001b[0m\u001b[0m\n",
      "\u001b[0;32m/opt/anaconda3/lib/python3.9/site-packages/matplotlib/axes/_axes.py\u001b[0m in \u001b[0;36mplot\u001b[0;34m(self, scalex, scaley, data, *args, **kwargs)\u001b[0m\n\u001b[1;32m   1603\u001b[0m         \"\"\"\n\u001b[1;32m   1604\u001b[0m         \u001b[0mkwargs\u001b[0m \u001b[0;34m=\u001b[0m \u001b[0mcbook\u001b[0m\u001b[0;34m.\u001b[0m\u001b[0mnormalize_kwargs\u001b[0m\u001b[0;34m(\u001b[0m\u001b[0mkwargs\u001b[0m\u001b[0;34m,\u001b[0m \u001b[0mmlines\u001b[0m\u001b[0;34m.\u001b[0m\u001b[0mLine2D\u001b[0m\u001b[0;34m)\u001b[0m\u001b[0;34m\u001b[0m\u001b[0;34m\u001b[0m\u001b[0m\n\u001b[0;32m-> 1605\u001b[0;31m         \u001b[0mlines\u001b[0m \u001b[0;34m=\u001b[0m \u001b[0;34m[\u001b[0m\u001b[0;34m*\u001b[0m\u001b[0mself\u001b[0m\u001b[0;34m.\u001b[0m\u001b[0m_get_lines\u001b[0m\u001b[0;34m(\u001b[0m\u001b[0;34m*\u001b[0m\u001b[0margs\u001b[0m\u001b[0;34m,\u001b[0m \u001b[0mdata\u001b[0m\u001b[0;34m=\u001b[0m\u001b[0mdata\u001b[0m\u001b[0;34m,\u001b[0m \u001b[0;34m**\u001b[0m\u001b[0mkwargs\u001b[0m\u001b[0;34m)\u001b[0m\u001b[0;34m]\u001b[0m\u001b[0;34m\u001b[0m\u001b[0;34m\u001b[0m\u001b[0m\n\u001b[0m\u001b[1;32m   1606\u001b[0m         \u001b[0;32mfor\u001b[0m \u001b[0mline\u001b[0m \u001b[0;32min\u001b[0m \u001b[0mlines\u001b[0m\u001b[0;34m:\u001b[0m\u001b[0;34m\u001b[0m\u001b[0;34m\u001b[0m\u001b[0m\n\u001b[1;32m   1607\u001b[0m             \u001b[0mself\u001b[0m\u001b[0;34m.\u001b[0m\u001b[0madd_line\u001b[0m\u001b[0;34m(\u001b[0m\u001b[0mline\u001b[0m\u001b[0;34m)\u001b[0m\u001b[0;34m\u001b[0m\u001b[0;34m\u001b[0m\u001b[0m\n",
      "\u001b[0;32m/opt/anaconda3/lib/python3.9/site-packages/matplotlib/axes/_base.py\u001b[0m in \u001b[0;36m__call__\u001b[0;34m(self, data, *args, **kwargs)\u001b[0m\n\u001b[1;32m    313\u001b[0m                 \u001b[0mthis\u001b[0m \u001b[0;34m+=\u001b[0m \u001b[0margs\u001b[0m\u001b[0;34m[\u001b[0m\u001b[0;36m0\u001b[0m\u001b[0;34m]\u001b[0m\u001b[0;34m,\u001b[0m\u001b[0;34m\u001b[0m\u001b[0;34m\u001b[0m\u001b[0m\n\u001b[1;32m    314\u001b[0m                 \u001b[0margs\u001b[0m \u001b[0;34m=\u001b[0m \u001b[0margs\u001b[0m\u001b[0;34m[\u001b[0m\u001b[0;36m1\u001b[0m\u001b[0;34m:\u001b[0m\u001b[0;34m]\u001b[0m\u001b[0;34m\u001b[0m\u001b[0;34m\u001b[0m\u001b[0m\n\u001b[0;32m--> 315\u001b[0;31m             \u001b[0;32myield\u001b[0m \u001b[0;32mfrom\u001b[0m \u001b[0mself\u001b[0m\u001b[0;34m.\u001b[0m\u001b[0m_plot_args\u001b[0m\u001b[0;34m(\u001b[0m\u001b[0mthis\u001b[0m\u001b[0;34m,\u001b[0m \u001b[0mkwargs\u001b[0m\u001b[0;34m)\u001b[0m\u001b[0;34m\u001b[0m\u001b[0;34m\u001b[0m\u001b[0m\n\u001b[0m\u001b[1;32m    316\u001b[0m \u001b[0;34m\u001b[0m\u001b[0m\n\u001b[1;32m    317\u001b[0m     \u001b[0;32mdef\u001b[0m \u001b[0mget_next_color\u001b[0m\u001b[0;34m(\u001b[0m\u001b[0mself\u001b[0m\u001b[0;34m)\u001b[0m\u001b[0;34m:\u001b[0m\u001b[0;34m\u001b[0m\u001b[0;34m\u001b[0m\u001b[0m\n",
      "\u001b[0;32m/opt/anaconda3/lib/python3.9/site-packages/matplotlib/axes/_base.py\u001b[0m in \u001b[0;36m_plot_args\u001b[0;34m(self, tup, kwargs, return_kwargs)\u001b[0m\n\u001b[1;32m    502\u001b[0m                              f\"have shapes {x.shape} and {y.shape}\")\n\u001b[1;32m    503\u001b[0m         \u001b[0;32mif\u001b[0m \u001b[0mx\u001b[0m\u001b[0;34m.\u001b[0m\u001b[0mndim\u001b[0m \u001b[0;34m>\u001b[0m \u001b[0;36m2\u001b[0m \u001b[0;32mor\u001b[0m \u001b[0my\u001b[0m\u001b[0;34m.\u001b[0m\u001b[0mndim\u001b[0m \u001b[0;34m>\u001b[0m \u001b[0;36m2\u001b[0m\u001b[0;34m:\u001b[0m\u001b[0;34m\u001b[0m\u001b[0;34m\u001b[0m\u001b[0m\n\u001b[0;32m--> 504\u001b[0;31m             raise ValueError(f\"x and y can be no greater than 2D, but have \"\n\u001b[0m\u001b[1;32m    505\u001b[0m                              f\"shapes {x.shape} and {y.shape}\")\n\u001b[1;32m    506\u001b[0m         \u001b[0;32mif\u001b[0m \u001b[0mx\u001b[0m\u001b[0;34m.\u001b[0m\u001b[0mndim\u001b[0m \u001b[0;34m==\u001b[0m \u001b[0;36m1\u001b[0m\u001b[0;34m:\u001b[0m\u001b[0;34m\u001b[0m\u001b[0;34m\u001b[0m\u001b[0m\n",
      "\u001b[0;31mValueError\u001b[0m: x and y can be no greater than 2D, but have shapes (1461, 1) and (1461, 1, 50)"
     ]
    },
    {
     "data": {
      "image/png": "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\n",
      "text/plain": [
       "<Figure size 432x288 with 2 Axes>"
      ]
     },
     "metadata": {
      "needs_background": "light"
     },
     "output_type": "display_data"
    }
   ],
   "source": [
    "for outcome in ['prey','predators']:#outcomes_python.keys():\n",
    "    plotting.lines(experiments_python, outcomes_python, outcomes_to_show=outcome, \n",
    "                   density=plotting_util.Density.HIST)\n",
    "plt.show()\n"
   ]
  },
  {
   "cell_type": "code",
   "execution_count": null,
   "metadata": {},
   "outputs": [],
   "source": []
  },
  {
   "cell_type": "markdown",
   "metadata": {},
   "source": [
    "## Netlogo model"
   ]
  },
  {
   "cell_type": "code",
   "execution_count": null,
   "metadata": {},
   "outputs": [],
   "source": [
    "model_netlogo = NetLogoModel(\"predprey\",wd=\"./model\",model_file=\"PredPrey.nlogo\",\n",
    "    )\n",
    "#model.run_length = 100\n",
    "#model.replications = 10\n",
    "\n",
    "\n",
    "model_netlogo.uncertainties = [RealParameter('prey_birth_rate', 0.015, 0.035),\n",
    "                       RealParameter('predation_rate', 0.0005, 0.003),\n",
    "                       RealParameter('predator_efficiency', 0.001, 0.004),\n",
    "                       RealParameter('predator_loss_rate', 0.04, 0.08)\n",
    "                      ]\n",
    "\n",
    "model_netlogo.outcomes = [\n",
    "    TimeSeriesOutcome('TIME'),\n",
    "    TimeSeriesOutcome('predators'),\n",
    "    TimeSeriesOutcome('prey'),]\n",
    "   \n",
    "    \n",
    "n = 50\n",
    "#model_netlogo.run_length = 100\n",
    "#model_netlogo.replications = 10"
   ]
  },
  {
   "cell_type": "code",
   "execution_count": null,
   "metadata": {},
   "outputs": [],
   "source": [
    "# with SequentialEvaluator(model_netlogo) as evaluator:\n",
    "#         results_netlogo = evaluator.perform_experiments(n)"
   ]
  },
  {
   "cell_type": "code",
   "execution_count": null,
   "metadata": {},
   "outputs": [],
   "source": [
    "# with SequentialEvaluator(model_netlogo) as evaluator:\n",
    "#      results_netlogo = evaluator.perform_experiments(scenarios=50)\n",
    "    \n",
    "# experiments_netlogo, outcomes_netlogo = results_netlogo\n",
    "\n",
    "# # get time and remove it from the dict\n",
    "# time = outcomes_netlogo.pop(\"TIME\")"
   ]
  },
  {
   "cell_type": "code",
   "execution_count": null,
   "metadata": {},
   "outputs": [],
   "source": []
  },
  {
   "cell_type": "code",
   "execution_count": null,
   "metadata": {},
   "outputs": [],
   "source": []
  },
  {
   "cell_type": "code",
   "execution_count": null,
   "metadata": {},
   "outputs": [],
   "source": []
  },
  {
   "cell_type": "markdown",
   "metadata": {},
   "source": [
    "## Excel Model "
   ]
  },
  {
   "cell_type": "code",
   "execution_count": null,
   "metadata": {},
   "outputs": [],
   "source": [
    "import win32com.client"
   ]
  },
  {
   "cell_type": "code",
   "execution_count": null,
   "metadata": {},
   "outputs": [],
   "source": [
    "model_excel = ExcelModel(\"predatorPrey\", wd=\"./model\", model_file=\"PredPrey.xlsx\") \n",
    "\n",
    "\n",
    "#model = ExcelModel(\"predatorPrey\", wd=\"./models/excelModel\", model_file=\"excel example.xlsx\"\n",
    "\n",
    "model_excel.uncertainties = [RealParameter('B3', 0.015, 0.035),\n",
    "                       RealParameter('B4', 0.0005, 0.003),\n",
    "                       RealParameter('B5', 0.001, 0.004),\n",
    "                       RealParameter('B6', 0.04, 0.08)\n",
    "                      ]\n",
    "\n",
    "\n",
    "# specification of the outcomes\n",
    "model_excel.outcomes = [\n",
    "    TimeSeriesOutcome(\"B14:BDF14\"),\n",
    "    TimeSeriesOutcome(\"B16:BDF16\"),\n",
    "    TimeSeriesOutcome(\"B15:BDF15\"),]\n",
    "\n",
    "# name of the sheet\n",
    "model_excel.default_sheet = \"Sheet1\""
   ]
  },
  {
   "cell_type": "code",
   "execution_count": null,
   "metadata": {},
   "outputs": [],
   "source": [
    "with SequentialEvaluator(model_excel) as evaluator:\n",
    "     #results_excel = evaluator.perform_experiments(scenarios=50)\n",
    "        results_excel = perform_experiments(\n",
    "            model_excel, 100, reporting_interval=1, evaluator=evaluator\n",
    "        )\n",
    "    \n",
    "experiments_excel, outcomes_excel = results_excel\n",
    "\n",
    "# get time and remove it from the dict\n",
    "time_excel = outcomes_excel.pop(\"TIME\")"
   ]
  },
  {
   "cell_type": "code",
   "execution_count": null,
   "metadata": {},
   "outputs": [],
   "source": []
  },
  {
   "cell_type": "code",
   "execution_count": null,
   "metadata": {},
   "outputs": [],
   "source": []
  },
  {
   "cell_type": "code",
   "execution_count": null,
   "metadata": {},
   "outputs": [],
   "source": []
  },
  {
   "cell_type": "code",
   "execution_count": null,
   "metadata": {},
   "outputs": [],
   "source": []
  },
  {
   "cell_type": "markdown",
   "metadata": {},
   "source": [
    "## Vensim model"
   ]
  },
  {
   "cell_type": "code",
   "execution_count": null,
   "metadata": {},
   "outputs": [],
   "source": [
    "#from lakemodel_function import lake_problem \n",
    "\n",
    "#from \n",
    "\n",
    "\n",
    "wd = r'./model/FLUvensimV1basecase'\n",
    "model = VensimModel(\"FLUvensimV1basecase\", wd=wd, model_file=r'\\FLUvensimV1basecase.vpm')"
   ]
  },
  {
   "cell_type": "code",
   "execution_count": null,
   "metadata": {},
   "outputs": [],
   "source": [
    "#model = Model('LakeProblem', function=lake_problem) "
   ]
  },
  {
   "cell_type": "code",
   "execution_count": null,
   "metadata": {},
   "outputs": [],
   "source": []
  },
  {
   "cell_type": "code",
   "execution_count": null,
   "metadata": {},
   "outputs": [],
   "source": []
  },
  {
   "cell_type": "code",
   "execution_count": null,
   "metadata": {},
   "outputs": [],
   "source": []
  }
 ],
 "metadata": {
  "kernelspec": {
   "display_name": "Python 3 (ipykernel)",
   "language": "python",
   "name": "python3"
  },
  "language_info": {
   "codemirror_mode": {
    "name": "ipython",
    "version": 3
   },
   "file_extension": ".py",
   "mimetype": "text/x-python",
   "name": "python",
   "nbconvert_exporter": "python",
   "pygments_lexer": "ipython3",
   "version": "3.9.7"
  }
 },
 "nbformat": 4,
 "nbformat_minor": 4
}
